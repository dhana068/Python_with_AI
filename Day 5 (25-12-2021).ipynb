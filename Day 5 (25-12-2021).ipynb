{
 "cells": [
  {
   "cell_type": "markdown",
   "id": "04c8ca24",
   "metadata": {},
   "source": [
    "# markdown\n",
    "## markdown\n",
    "### markdown\n",
    "#### markdown"
   ]
  },
  {
   "cell_type": "markdown",
   "id": "4199917a",
   "metadata": {},
   "source": [
    "- python\n",
    "    - python 1\n",
    "    - python 2\n",
    "        - python 1\n",
    "        - python 2\n",
    "- *python*\n",
    "- **python**\n",
    "- ***python***"
   ]
  },
  {
   "cell_type": "markdown",
   "id": "ebf19406",
   "metadata": {},
   "source": [
    "# print function():\n",
    "\n",
    "- it allows to print specific text or message\n"
   ]
  },
  {
   "cell_type": "code",
   "execution_count": 8,
   "id": "3f653779",
   "metadata": {},
   "outputs": [
    {
     "name": "stdout",
     "output_type": "stream",
     "text": [
      "hello world\n"
     ]
    }
   ],
   "source": [
    "print(\"hello world\")"
   ]
  },
  {
   "cell_type": "code",
   "execution_count": 6,
   "id": "b4b71110",
   "metadata": {},
   "outputs": [
    {
     "name": "stdout",
     "output_type": "stream",
     "text": [
      "HELLO,WORLD\n"
     ]
    }
   ],
   "source": [
    "print(\"HELLO,WORLD\")"
   ]
  },
  {
   "cell_type": "code",
   "execution_count": 7,
   "id": "cf739e5a",
   "metadata": {},
   "outputs": [
    {
     "name": "stdout",
     "output_type": "stream",
     "text": [
      "ONE TEWO THREE\n"
     ]
    }
   ],
   "source": [
    "print(\"ONE\",\"TEWO\",\"THREE\")"
   ]
  },
  {
   "cell_type": "markdown",
   "id": "9d131fa2",
   "metadata": {},
   "source": [
    "# Variables\n",
    "- it allows to store some value"
   ]
  },
  {
   "cell_type": "code",
   "execution_count": 10,
   "id": "43383066",
   "metadata": {},
   "outputs": [],
   "source": [
    "a=10 #single variable assaigned to a value"
   ]
  },
  {
   "cell_type": "code",
   "execution_count": 11,
   "id": "3a43ff57",
   "metadata": {},
   "outputs": [
    {
     "data": {
      "text/plain": [
       "10"
      ]
     },
     "execution_count": 11,
     "metadata": {},
     "output_type": "execute_result"
    }
   ],
   "source": [
    "a"
   ]
  },
  {
   "cell_type": "code",
   "execution_count": 12,
   "id": "8771b6cf",
   "metadata": {},
   "outputs": [],
   "source": [
    "a=b=c=10 #multiple variable assaign to a single value"
   ]
  },
  {
   "cell_type": "code",
   "execution_count": 13,
   "id": "7d55f859",
   "metadata": {},
   "outputs": [
    {
     "name": "stdout",
     "output_type": "stream",
     "text": [
      "10 10 10\n"
     ]
    }
   ],
   "source": [
    "print(a,b,c)"
   ]
  },
  {
   "cell_type": "code",
   "execution_count": 14,
   "id": "55cc04e0",
   "metadata": {},
   "outputs": [],
   "source": [
    "a,b,c=10,20,30 #multiple variable assaign multiple values"
   ]
  },
  {
   "cell_type": "code",
   "execution_count": 15,
   "id": "6c53ad1a",
   "metadata": {},
   "outputs": [
    {
     "name": "stdout",
     "output_type": "stream",
     "text": [
      "10 20 30\n"
     ]
    }
   ],
   "source": [
    "print(a,b,c)"
   ]
  },
  {
   "cell_type": "markdown",
   "id": "c8f6b407",
   "metadata": {},
   "source": [
    "# Data type\n",
    "- it tells about which type of data\n",
    "- int\n",
    "- float\n",
    "- string"
   ]
  },
  {
   "cell_type": "code",
   "execution_count": 16,
   "id": "732d2f0f",
   "metadata": {},
   "outputs": [
    {
     "name": "stdout",
     "output_type": "stream",
     "text": [
      "5\n",
      "<class 'int'>\n"
     ]
    }
   ],
   "source": [
    "# int\n",
    "a=5\n",
    "print(a)\n",
    "print(type(a))"
   ]
  },
  {
   "cell_type": "code",
   "execution_count": 17,
   "id": "349fd698",
   "metadata": {},
   "outputs": [
    {
     "name": "stdout",
     "output_type": "stream",
     "text": [
      "1.2\n",
      "<class 'float'>\n"
     ]
    }
   ],
   "source": [
    "# float\n",
    "a= 1.2\n",
    "print(a)\n",
    "print(type(a))"
   ]
  },
  {
   "cell_type": "code",
   "execution_count": 18,
   "id": "53352ec5",
   "metadata": {},
   "outputs": [
    {
     "name": "stdout",
     "output_type": "stream",
     "text": [
      "<class 'str'>\n"
     ]
    }
   ],
   "source": [
    "# string\n",
    "a=\"python\"\n",
    "print(type(a))"
   ]
  },
  {
   "cell_type": "code",
   "execution_count": 19,
   "id": "61e1894c",
   "metadata": {},
   "outputs": [
    {
     "name": "stdout",
     "output_type": "stream",
     "text": [
      "python\n",
      "<class 'str'>\n"
     ]
    }
   ],
   "source": [
    "# string\n",
    "a=\"python\"\n",
    "print(a)\n",
    "print(type(a))"
   ]
  },
  {
   "cell_type": "markdown",
   "id": "3e50e4c0",
   "metadata": {},
   "source": [
    "# Data conversation\n",
    "- it converts one data type to another data type"
   ]
  },
  {
   "cell_type": "code",
   "execution_count": 23,
   "id": "01c2e7ac",
   "metadata": {},
   "outputs": [
    {
     "name": "stdout",
     "output_type": "stream",
     "text": [
      "10 <class 'int'>\n",
      "10.0 <class 'float'>\n",
      "10 <class 'str'>\n"
     ]
    }
   ],
   "source": [
    "n=10\n",
    "print(n,type(n))\n",
    "f=float(n)\n",
    "print(f,type(f))\n",
    "s=str(n)\n",
    "print(s,type(s))"
   ]
  },
  {
   "cell_type": "code",
   "execution_count": 26,
   "id": "11b3338e",
   "metadata": {},
   "outputs": [
    {
     "name": "stdout",
     "output_type": "stream",
     "text": [
      "1.3 <class 'float'>\n",
      "1 <class 'int'>\n",
      "1.3 <class 'str'>\n"
     ]
    }
   ],
   "source": [
    "f=1.3\n",
    "print(f,type(f))\n",
    "i=int(f)\n",
    "print(i,type(i))\n",
    "s=str(f)\n",
    "print(s,type(s))"
   ]
  },
  {
   "cell_type": "code",
   "execution_count": 28,
   "id": "c4ac7f66",
   "metadata": {},
   "outputs": [
    {
     "name": "stdout",
     "output_type": "stream",
     "text": [
      "python <class 'str'>\n"
     ]
    },
    {
     "ename": "ValueError",
     "evalue": "could not convert string to float: 'python'",
     "output_type": "error",
     "traceback": [
      "\u001b[1;31m---------------------------------------------------------------------------\u001b[0m",
      "\u001b[1;31mValueError\u001b[0m                                Traceback (most recent call last)",
      "\u001b[1;32m~\\AppData\\Local\\Temp/ipykernel_4428/1647788618.py\u001b[0m in \u001b[0;36m<module>\u001b[1;34m\u001b[0m\n\u001b[0;32m      1\u001b[0m \u001b[0ms\u001b[0m\u001b[1;33m=\u001b[0m\u001b[1;34m\"python\"\u001b[0m\u001b[1;33m\u001b[0m\u001b[1;33m\u001b[0m\u001b[0m\n\u001b[0;32m      2\u001b[0m \u001b[0mprint\u001b[0m\u001b[1;33m(\u001b[0m\u001b[0ms\u001b[0m\u001b[1;33m,\u001b[0m\u001b[0mtype\u001b[0m\u001b[1;33m(\u001b[0m\u001b[0ms\u001b[0m\u001b[1;33m)\u001b[0m\u001b[1;33m)\u001b[0m\u001b[1;33m\u001b[0m\u001b[1;33m\u001b[0m\u001b[0m\n\u001b[1;32m----> 3\u001b[1;33m \u001b[0mf\u001b[0m\u001b[1;33m=\u001b[0m\u001b[0mfloat\u001b[0m\u001b[1;33m(\u001b[0m\u001b[0ms\u001b[0m\u001b[1;33m)\u001b[0m\u001b[1;33m\u001b[0m\u001b[1;33m\u001b[0m\u001b[0m\n\u001b[0m\u001b[0;32m      4\u001b[0m \u001b[0mprint\u001b[0m\u001b[1;33m(\u001b[0m\u001b[0mf\u001b[0m\u001b[1;33m,\u001b[0m\u001b[0mtype\u001b[0m\u001b[1;33m(\u001b[0m\u001b[0mf\u001b[0m\u001b[1;33m)\u001b[0m\u001b[1;33m)\u001b[0m\u001b[1;33m\u001b[0m\u001b[1;33m\u001b[0m\u001b[0m\n",
      "\u001b[1;31mValueError\u001b[0m: could not convert string to float: 'python'"
     ]
    }
   ],
   "source": [
    "s=\"python\"\n",
    "print(s,type(s))\n",
    "f=float(s)\n",
    "print(f,type(f))"
   ]
  },
  {
   "cell_type": "code",
   "execution_count": 29,
   "id": "f5533a4a",
   "metadata": {},
   "outputs": [
    {
     "name": "stdout",
     "output_type": "stream",
     "text": [
      "123456 <class 'str'>\n",
      "123456.0 <class 'float'>\n",
      "123456 <class 'str'>\n"
     ]
    }
   ],
   "source": [
    "s=\"123456\"\n",
    "print(s,type(s))\n",
    "f=float(s)\n",
    "print(f,type(f))\n",
    "i=int(s)\n",
    "print(s,type(s))"
   ]
  },
  {
   "cell_type": "code",
   "execution_count": 54,
   "id": "6607735e",
   "metadata": {},
   "outputs": [
    {
     "name": "stdout",
     "output_type": "stream",
     "text": [
      "['Name', 'is', 'james'] <class 'list'>\n"
     ]
    }
   ],
   "source": [
    "a=\"Name\",\"is\",\"james\"\n",
    "print(a,type(a))"
   ]
  },
  {
   "cell_type": "code",
   "execution_count": 47,
   "id": "f0075b47",
   "metadata": {},
   "outputs": [
    {
     "name": "stdout",
     "output_type": "stream",
     "text": [
      "('Name', 'is', 'james') <class 'tuple'>\n"
     ]
    }
   ],
   "source": [
    "print(a,type(a))"
   ]
  },
  {
   "cell_type": "markdown",
   "id": "fc857a86",
   "metadata": {},
   "source": [
    "# Input Function\n",
    "- takes an input from the user"
   ]
  },
  {
   "cell_type": "code",
   "execution_count": 43,
   "id": "27a23a42",
   "metadata": {},
   "outputs": [
    {
     "name": "stdout",
     "output_type": "stream",
     "text": [
      "enter radius of circle5\n",
      "78.5\n"
     ]
    }
   ],
   "source": [
    "r=int(input(\"enter radius of circle\"))\n",
    "area=3.14*r**2\n",
    "print(area)"
   ]
  },
  {
   "cell_type": "code",
   "execution_count": 49,
   "id": "b9ffb1cb",
   "metadata": {},
   "outputs": [
    {
     "name": "stdout",
     "output_type": "stream",
     "text": [
      "enter 1st value15\n",
      "enter 2nd value3\n",
      "sum = 18 \n",
      " multiplication = 45 \n",
      " division = 5.0\n"
     ]
    }
   ],
   "source": [
    "a=int(input(\"enter 1st value\"))\n",
    "b=int(input(\"enter 2nd value\"))\n",
    "s=a+b\n",
    "m=a*b\n",
    "d=a/b\n",
    "print(\"sum =\",s,\"\\n\",\"multiplication =\",m,\"\\n\",\"division =\",d)"
   ]
  },
  {
   "cell_type": "code",
   "execution_count": 50,
   "id": "400cca21",
   "metadata": {},
   "outputs": [
    {
     "name": "stdout",
     "output_type": "stream",
     "text": [
      "Enter year2021\n",
      "year 2071\n"
     ]
    }
   ],
   "source": [
    "y=int(input(\"Enter year\"))\n",
    "print(\"year\",y+50)"
   ]
  },
  {
   "cell_type": "code",
   "execution_count": 51,
   "id": "c3b8c546",
   "metadata": {},
   "outputs": [
    {
     "name": "stdout",
     "output_type": "stream",
     "text": [
      "1586\n",
      "1636\n"
     ]
    }
   ],
   "source": [
    "n =int(input()) \n",
    "n = n+50\n",
    "print(n)"
   ]
  },
  {
   "cell_type": "code",
   "execution_count": null,
   "id": "f6777760",
   "metadata": {},
   "outputs": [],
   "source": []
  }
 ],
 "metadata": {
  "kernelspec": {
   "display_name": "Python 3 (ipykernel)",
   "language": "python",
   "name": "python3"
  },
  "language_info": {
   "codemirror_mode": {
    "name": "ipython",
    "version": 3
   },
   "file_extension": ".py",
   "mimetype": "text/x-python",
   "name": "python",
   "nbconvert_exporter": "python",
   "pygments_lexer": "ipython3",
   "version": "3.9.7"
  }
 },
 "nbformat": 4,
 "nbformat_minor": 5
}
