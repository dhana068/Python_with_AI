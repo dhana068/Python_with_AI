{
 "cells": [
  {
   "cell_type": "markdown",
   "id": "1e116b85",
   "metadata": {},
   "source": [
    "# operators\n",
    "- +\n",
    "- -\n",
    "- /\n",
    "- *\n",
    "- //\n",
    "- %\n",
    "- **"
   ]
  },
  {
   "cell_type": "code",
   "execution_count": 1,
   "id": "c38e89a1",
   "metadata": {},
   "outputs": [
    {
     "name": "stdout",
     "output_type": "stream",
     "text": [
      "12\n",
      "8\n",
      "20\n",
      "5.0\n",
      "0\n",
      "100\n",
      "5\n"
     ]
    }
   ],
   "source": [
    "x=10\n",
    "y=2\n",
    "print(x+y)\n",
    "print(x-y)\n",
    "print(x*y)\n",
    "print(x/y)\n",
    "print(x%y)\n",
    "print(x**y)\n",
    "print(x//y)"
   ]
  },
  {
   "cell_type": "markdown",
   "id": "6327a15e",
   "metadata": {},
   "source": [
    "# Assignment operator:\n",
    "- used to assign a values to variables.\n",
    "- operators\n",
    "  - **'='**\n",
    "  - **'+='**\n",
    "  - **'-='**\n",
    "  - **'*='**\n",
    "  - **'/='**\n",
    "  - **'**='**\n",
    "  - **'//='**\n",
    "  - **'%='**\n"
   ]
  },
  {
   "cell_type": "code",
   "execution_count": 5,
   "id": "3d1814f4",
   "metadata": {},
   "outputs": [
    {
     "name": "stdout",
     "output_type": "stream",
     "text": [
      "11\n",
      "7\n",
      "21\n",
      "7.0\n",
      "343.0\n",
      "3.0\n",
      "1.0\n"
     ]
    }
   ],
   "source": [
    "x=5\n",
    "x += 6\n",
    "print(x)\n",
    "x -= 4\n",
    "print(x)\n",
    "x *= 3\n",
    "print(x)\n",
    "x /= 3\n",
    "print(x)\n",
    "x **= 3\n",
    "print(x)\n",
    "x %= 4\n",
    "print(x)\n",
    "x //= 2\n",
    "print(x)"
   ]
  },
  {
   "cell_type": "markdown",
   "id": "82d6faf1",
   "metadata": {},
   "source": [
    "# Comparision operators:\n",
    "- used to compare the values.\n",
    "- operators:\n",
    "    - **'=='**\n",
    "    - **'!='**\n",
    "    - **'<'**\n",
    "    - **'>'**\n",
    "    - **'<='**\n",
    "    - **'>='**"
   ]
  },
  {
   "cell_type": "code",
   "execution_count": 6,
   "id": "f6c70c93",
   "metadata": {},
   "outputs": [
    {
     "name": "stdout",
     "output_type": "stream",
     "text": [
      "False\n",
      "True\n",
      "True\n",
      "False\n",
      "True\n",
      "False\n"
     ]
    }
   ],
   "source": [
    "x = 6\n",
    "y = 9\n",
    "print(x == y)\n",
    "print(x != y)\n",
    "print(x < y)\n",
    "print(x > y)\n",
    "print(x <= y)\n",
    "print(x >= y)\n"
   ]
  },
  {
   "cell_type": "markdown",
   "id": "59584f03",
   "metadata": {},
   "source": [
    "# Logical operators:\n",
    "- used to combine the conditional statements.\n",
    "- operators:\n",
    "    - **'and'**\n",
    "    - **'or'**\n",
    "    - **'not'**"
   ]
  },
  {
   "cell_type": "code",
   "execution_count": 8,
   "id": "61b317c2",
   "metadata": {},
   "outputs": [
    {
     "name": "stdout",
     "output_type": "stream",
     "text": [
      "False\n",
      "True\n",
      "True\n"
     ]
    }
   ],
   "source": [
    "x = 3\n",
    "print(x > 5 and x <9)\n",
    "print(x > 5 or x <9)\n",
    "print(not(x > 5 and x < 9))"
   ]
  },
  {
   "cell_type": "markdown",
   "id": "8d80cf9a",
   "metadata": {},
   "source": [
    "# Identity operator:\n",
    "- operators:\n",
    "    - **'is'**\n",
    "    - **'is not'**"
   ]
  },
  {
   "cell_type": "code",
   "execution_count": 9,
   "id": "9069bde3",
   "metadata": {},
   "outputs": [
    {
     "name": "stdout",
     "output_type": "stream",
     "text": [
      "True\n",
      "False\n",
      "True\n"
     ]
    }
   ],
   "source": [
    "a=3\n",
    "b=3\n",
    "c=8\n",
    "print(a is b)\n",
    "print(a is c)\n",
    "print(a is b is not c)"
   ]
  },
  {
   "cell_type": "markdown",
   "id": "2129ba1f",
   "metadata": {},
   "source": [
    "# Membership operator:\n",
    "- used to test given sequence is presented in object.\n",
    "- operators:\n",
    "    - **'in'**\n",
    "    - **'not in'**\n",
    "    "
   ]
  },
  {
   "cell_type": "code",
   "execution_count": 10,
   "id": "115c16c4",
   "metadata": {},
   "outputs": [
    {
     "name": "stdout",
     "output_type": "stream",
     "text": [
      "True\n",
      "True\n",
      "False\n",
      "True\n"
     ]
    }
   ],
   "source": [
    "s=\"python\"\n",
    "print(\"y\" in s)\n",
    "print(\"th\" in s)\n",
    "print(\"thn\" in s)\n",
    "print(\"pn\"  not in s)\n"
   ]
  },
  {
   "cell_type": "markdown",
   "id": "fdefcad9",
   "metadata": {},
   "source": [
    "# Control Flow statements:\n",
    "- Conditional statements\n",
    "    - **'if-else statement'**\n",
    "- looping statements\n",
    "    - **'while loop statement'**\n",
    "    - **'for loop statement'**"
   ]
  },
  {
   "cell_type": "markdown",
   "id": "b63accd9",
   "metadata": {},
   "source": [
    "# syntax\n",
    " - **if boolean_condition:**\n",
    "    - **statements**\n",
    "- **elif boolean_condition:**\n",
    "    - **statements**\n",
    "- **else:**\n",
    "    - **statements**"
   ]
  },
  {
   "cell_type": "code",
   "execution_count": 15,
   "id": "ac90c80e",
   "metadata": {},
   "outputs": [
    {
     "name": "stdout",
     "output_type": "stream",
     "text": [
      "enter a no.5\n",
      "odd number\n"
     ]
    }
   ],
   "source": [
    "# check given number is odd or even number\n",
    "n=int(input(\"enter a no.\"))\n",
    "if (n%2==0):\n",
    "    print(\"even number\")\n",
    "else:\n",
    "    print(\"odd number\")"
   ]
  },
  {
   "cell_type": "code",
   "execution_count": 16,
   "id": "b57d8a39",
   "metadata": {},
   "outputs": [
    {
     "name": "stdout",
     "output_type": "stream",
     "text": [
      "enter a no.30\n",
      "yes\n"
     ]
    }
   ],
   "source": [
    "# check given is multiple of both 3 and 5\n",
    "n=int(input(\"enter a no.\"))\n",
    "if (n%3==0) and (n%5==0):\n",
    "    print(\"yes\")\n",
    "else:\n",
    "    print(\"no\")\n",
    "    \n"
   ]
  },
  {
   "cell_type": "code",
   "execution_count": 17,
   "id": "2ffbfeb4",
   "metadata": {},
   "outputs": [
    {
     "name": "stdout",
     "output_type": "stream",
     "text": [
      "enter a no.5\n",
      "positive no\n"
     ]
    }
   ],
   "source": [
    "# check given no is positive,negative or zero\n",
    "n=int(input(\"enter a no.\"))\n",
    "if (n>0):\n",
    "    print(\"positive no\")\n",
    "elif(n<0):\n",
    "    print(\"negative no\")\n",
    "else:\n",
    "    print(\"zero\")"
   ]
  },
  {
   "cell_type": "code",
   "execution_count": 20,
   "id": "cdf65954",
   "metadata": {},
   "outputs": [
    {
     "name": "stdout",
     "output_type": "stream",
     "text": [
      "enter 1st no.6\n",
      "enter 2nd no.4\n",
      "enter 3rd no.2\n",
      "a is larger no 6\n"
     ]
    }
   ],
   "source": [
    "# find large number from 3 inputs\n",
    "a=int(input(\"enter 1st no.\"))\n",
    "b=int(input(\"enter 2nd no.\"))\n",
    "c=int(input(\"enter 3rd no.\"))\n",
    "if a>b and a>c:\n",
    "    print(\"a is larger no\",a)\n",
    "elif b>c and b>a:\n",
    "    print(\"b is larger no\",b)\n",
    "else:\n",
    "    print(\"c is larger no\",c)\n"
   ]
  },
  {
   "cell_type": "code",
   "execution_count": 19,
   "id": "d2e64733",
   "metadata": {},
   "outputs": [
    {
     "name": "stdout",
     "output_type": "stream",
     "text": [
      "enter marks:90\n",
      "A grade\n"
     ]
    }
   ],
   "source": [
    "# find grading\n",
    "n=int(input(\"enter marks:\"))\n",
    "if (n>80):\n",
    "    print(\"A grade\")\n",
    "elif(n>60 and n<80):\n",
    "    print(\"B grade\")\n",
    "elif(n>50 and n<60):\n",
    "    print(\"c grade\")\n",
    "elif(n>45 and n<50):\n",
    "    print(\"D grade\")\n",
    "elif(n>25 and n<45):\n",
    "    print(\"E grade\")\n",
    "else:\n",
    "    print(\"F grade\")\n"
   ]
  },
  {
   "cell_type": "markdown",
   "id": "5286e943",
   "metadata": {},
   "source": [
    "# While Loop Statement:\n",
    "\n"
   ]
  },
  {
   "cell_type": "markdown",
   "id": "926830c6",
   "metadata": {},
   "source": [
    "# syntax\n",
    "- **while boolean_condition:**\n",
    "    - **statements**\n",
    "    - **increment/decrement**\n",
    "    "
   ]
  },
  {
   "cell_type": "code",
   "execution_count": 22,
   "id": "de5fb865",
   "metadata": {},
   "outputs": [
    {
     "name": "stdout",
     "output_type": "stream",
     "text": [
      "python\n",
      "python\n",
      "python\n",
      "python\n",
      "python\n"
     ]
    }
   ],
   "source": [
    "# want to print \"python\" 5 times\n",
    "i=1\n",
    "while i<=5:\n",
    "    print(\"python\")\n",
    "    i=i+1"
   ]
  },
  {
   "cell_type": "code",
   "execution_count": 23,
   "id": "64888e23",
   "metadata": {},
   "outputs": [
    {
     "name": "stdout",
     "output_type": "stream",
     "text": [
      "1 2 3 4 5 6 7 8 9 10 "
     ]
    }
   ],
   "source": [
    "# print from 1 to 10\n",
    "i=1\n",
    "while i<=10:\n",
    "    print(i,end=\" \")\n",
    "    i=i+1\n",
    "    "
   ]
  },
  {
   "cell_type": "code",
   "execution_count": 2,
   "id": "e8442c5e",
   "metadata": {},
   "outputs": [
    {
     "name": "stdout",
     "output_type": "stream",
     "text": [
      "2 4 6 8 10 "
     ]
    }
   ],
   "source": [
    "# from 1 to 10 only print even no.\n",
    "i=1\n",
    "while (i<=10):\n",
    "    if(i%2==0):\n",
    "        print(i,end=\" \")\n",
    "    i=i+1\n",
    "        "
   ]
  },
  {
   "cell_type": "code",
   "execution_count": 5,
   "id": "19b71517",
   "metadata": {},
   "outputs": [
    {
     "name": "stdout",
     "output_type": "stream",
     "text": [
      "enter a no:70\n",
      "1 2 5 7 10 14 35 70 "
     ]
    }
   ],
   "source": [
    "# factors\n",
    "n=int(input(\"enter a no:\"))\n",
    "i=1\n",
    "while (i<=n):\n",
    "    if(n%i==0):\n",
    "        print(i,end=\" \")\n",
    "    i=i+1\n",
    "    \n"
   ]
  },
  {
   "cell_type": "code",
   "execution_count": null,
   "id": "bd7b4776",
   "metadata": {},
   "outputs": [],
   "source": []
  }
 ],
 "metadata": {
  "kernelspec": {
   "display_name": "Python 3 (ipykernel)",
   "language": "python",
   "name": "python3"
  },
  "language_info": {
   "codemirror_mode": {
    "name": "ipython",
    "version": 3
   },
   "file_extension": ".py",
   "mimetype": "text/x-python",
   "name": "python",
   "nbconvert_exporter": "python",
   "pygments_lexer": "ipython3",
   "version": "3.9.7"
  }
 },
 "nbformat": 4,
 "nbformat_minor": 5
}
